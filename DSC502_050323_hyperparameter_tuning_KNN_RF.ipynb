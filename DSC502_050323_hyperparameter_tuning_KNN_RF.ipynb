{
  "nbformat": 4,
  "nbformat_minor": 0,
  "metadata": {
    "colab": {
      "provenance": [],
      "include_colab_link": true
    },
    "kernelspec": {
      "name": "python3",
      "display_name": "Python 3"
    },
    "language_info": {
      "name": "python"
    }
  },
  "cells": [
    {
      "cell_type": "markdown",
      "metadata": {
        "id": "view-in-github",
        "colab_type": "text"
      },
      "source": [
        "<a href=\"https://colab.research.google.com/github/Bborub/baseball/blob/main/DSC502_050323_hyperparameter_tuning_KNN_RF.ipynb\" target=\"_parent\"><img src=\"https://colab.research.google.com/assets/colab-badge.svg\" alt=\"Open In Colab\"/></a>"
      ]
    },
    {
      "cell_type": "markdown",
      "source": [
        "# Grid Search using KNN and RF on the diabetes dataset"
      ],
      "metadata": {
        "id": "e-C44w6GhmwP"
      }
    },
    {
      "cell_type": "markdown",
      "source": [
        "## Imports"
      ],
      "metadata": {
        "id": "x-L8ATcJhsgd"
      }
    },
    {
      "cell_type": "code",
      "execution_count": 1,
      "metadata": {
        "id": "of1cSI27emcu"
      },
      "outputs": [],
      "source": [
        "import pandas as pd\n",
        "import numpy as np\n",
        "\n",
        "from sklearn.model_selection import train_test_split\n",
        "from sklearn.preprocessing import StandardScaler\n",
        "from sklearn.neighbors import KNeighborsClassifier\n",
        "from sklearn.ensemble import RandomForestClassifier\n",
        "from sklearn.metrics import confusion_matrix\n",
        "from sklearn.model_selection import RepeatedStratifiedKFold\n",
        "from sklearn.model_selection import GridSearchCV"
      ]
    },
    {
      "cell_type": "markdown",
      "source": [
        "## Load dataset and define features and label"
      ],
      "metadata": {
        "id": "SCiCaM3khKSs"
      }
    },
    {
      "cell_type": "code",
      "source": [
        "df = pd.read_csv('https://storage.googleapis.com/scsu-data-science/diabetes_cleaned.csv')\n",
        "X = df.loc[:, 'Pregnancies':'Age']\n",
        "y = df.loc[:, 'Outcome']"
      ],
      "metadata": {
        "id": "DtoaypeDfE3k"
      },
      "execution_count": 2,
      "outputs": []
    },
    {
      "cell_type": "markdown",
      "source": [
        "## Case I: KNN optimization\n",
        "\n",
        "### Define KNN model, the grid (search space) and cross validation model"
      ],
      "metadata": {
        "id": "s-vY9EMkgAYy"
      }
    },
    {
      "cell_type": "code",
      "source": [
        "model = KNeighborsClassifier()\n",
        "n_neighbors = range(1, 21, 2)\n",
        "metric = ['euclidean', 'manhattan']\n",
        "weights = ['uniform', 'distance']\n",
        "\n",
        "# define the grid \n",
        "grid = dict(n_neighbors = n_neighbors, metric = metric, weights = weights)\n",
        "\n",
        "# Stratified sampling ensures that proportion of labels is maintained in test set \n",
        "cv = RepeatedStratifiedKFold(n_splits = 10, n_repeats = 3, random_state = 1)"
      ],
      "metadata": {
        "id": "2jZkKTXhfWs9"
      },
      "execution_count": 3,
      "outputs": []
    },
    {
      "cell_type": "markdown",
      "source": [
        "### Define grid search and execute it"
      ],
      "metadata": {
        "id": "EWNZET7aggpY"
      }
    },
    {
      "cell_type": "code",
      "source": [
        "grid_search = GridSearchCV(estimator=model, \n",
        "                           param_grid=grid, \n",
        "                           n_jobs=-1,   # Use all CPU cores \n",
        "                           cv=cv,\n",
        "                           scoring='accuracy')\n",
        "\n",
        "# This may take a while to compute (depending on size of search space)\n",
        "grid_result = grid_search.fit(X, y)"
      ],
      "metadata": {
        "id": "NnU8Q8STgJ37"
      },
      "execution_count": 4,
      "outputs": []
    },
    {
      "cell_type": "markdown",
      "source": [
        "### Extract results (KNN)"
      ],
      "metadata": {
        "id": "PbvMlNHggncS"
      }
    },
    {
      "cell_type": "code",
      "source": [
        "print(f\"Best accuracy: {grid_result.best_score_:0.3f} using {grid_result.best_params_}\\n\")\n",
        "\n",
        "# Output the accuracy for all combintations in the grid\n",
        "means = grid_result.cv_results_['mean_test_score']\n",
        "stds = grid_result.cv_results_['std_test_score']\n",
        "params = grid_result.cv_results_['params']\n",
        "for mean, stdev, param in zip(means, stds, params):\n",
        "    print(\"%f (%f) with: %r\" % (mean, stdev, param))"
      ],
      "metadata": {
        "colab": {
          "base_uri": "https://localhost:8080/"
        },
        "id": "wKSX1hL_gmwc",
        "outputId": "7a8eadbe-166a-4736-d64c-94a20cb83f56"
      },
      "execution_count": 5,
      "outputs": [
        {
          "output_type": "stream",
          "name": "stdout",
          "text": [
            "Best accuracy: 0.749 using {'metric': 'manhattan', 'n_neighbors': 19, 'weights': 'uniform'}\n",
            "\n",
            "0.695728 (0.048822) with: {'metric': 'euclidean', 'n_neighbors': 1, 'weights': 'uniform'}\n",
            "0.695728 (0.048822) with: {'metric': 'euclidean', 'n_neighbors': 1, 'weights': 'distance'}\n",
            "0.702671 (0.042343) with: {'metric': 'euclidean', 'n_neighbors': 3, 'weights': 'uniform'}\n",
            "0.700496 (0.041584) with: {'metric': 'euclidean', 'n_neighbors': 3, 'weights': 'distance'}\n",
            "0.712207 (0.044516) with: {'metric': 'euclidean', 'n_neighbors': 5, 'weights': 'uniform'}\n",
            "0.713078 (0.046241) with: {'metric': 'euclidean', 'n_neighbors': 5, 'weights': 'distance'}\n",
            "0.719634 (0.040810) with: {'metric': 'euclidean', 'n_neighbors': 7, 'weights': 'uniform'}\n",
            "0.714850 (0.046482) with: {'metric': 'euclidean', 'n_neighbors': 7, 'weights': 'distance'}\n",
            "0.730463 (0.046045) with: {'metric': 'euclidean', 'n_neighbors': 9, 'weights': 'uniform'}\n",
            "0.728281 (0.048898) with: {'metric': 'euclidean', 'n_neighbors': 9, 'weights': 'distance'}\n",
            "0.732678 (0.049869) with: {'metric': 'euclidean', 'n_neighbors': 11, 'weights': 'uniform'}\n",
            "0.728759 (0.051747) with: {'metric': 'euclidean', 'n_neighbors': 11, 'weights': 'distance'}\n",
            "0.729187 (0.048228) with: {'metric': 'euclidean', 'n_neighbors': 13, 'weights': 'uniform'}\n",
            "0.725689 (0.047348) with: {'metric': 'euclidean', 'n_neighbors': 13, 'weights': 'distance'}\n",
            "0.731351 (0.053847) with: {'metric': 'euclidean', 'n_neighbors': 15, 'weights': 'uniform'}\n",
            "0.726145 (0.052306) with: {'metric': 'euclidean', 'n_neighbors': 15, 'weights': 'distance'}\n",
            "0.735686 (0.051805) with: {'metric': 'euclidean', 'n_neighbors': 17, 'weights': 'uniform'}\n",
            "0.735680 (0.051157) with: {'metric': 'euclidean', 'n_neighbors': 17, 'weights': 'distance'}\n",
            "0.740021 (0.052239) with: {'metric': 'euclidean', 'n_neighbors': 19, 'weights': 'uniform'}\n",
            "0.738722 (0.053030) with: {'metric': 'euclidean', 'n_neighbors': 19, 'weights': 'distance'}\n",
            "0.703116 (0.036911) with: {'metric': 'manhattan', 'n_neighbors': 1, 'weights': 'uniform'}\n",
            "0.703116 (0.036911) with: {'metric': 'manhattan', 'n_neighbors': 1, 'weights': 'distance'}\n",
            "0.700091 (0.045115) with: {'metric': 'manhattan', 'n_neighbors': 3, 'weights': 'uniform'}\n",
            "0.697921 (0.044479) with: {'metric': 'manhattan', 'n_neighbors': 3, 'weights': 'distance'}\n",
            "0.720922 (0.045324) with: {'metric': 'manhattan', 'n_neighbors': 5, 'weights': 'uniform'}\n",
            "0.723975 (0.043291) with: {'metric': 'manhattan', 'n_neighbors': 5, 'weights': 'distance'}\n",
            "0.727427 (0.035999) with: {'metric': 'manhattan', 'n_neighbors': 7, 'weights': 'uniform'}\n",
            "0.725706 (0.039181) with: {'metric': 'manhattan', 'n_neighbors': 7, 'weights': 'distance'}\n",
            "0.734387 (0.039248) with: {'metric': 'manhattan', 'n_neighbors': 9, 'weights': 'uniform'}\n",
            "0.734814 (0.038401) with: {'metric': 'manhattan', 'n_neighbors': 9, 'weights': 'distance'}\n",
            "0.741758 (0.046338) with: {'metric': 'manhattan', 'n_neighbors': 11, 'weights': 'uniform'}\n",
            "0.739582 (0.049647) with: {'metric': 'manhattan', 'n_neighbors': 11, 'weights': 'distance'}\n",
            "0.748724 (0.048644) with: {'metric': 'manhattan', 'n_neighbors': 13, 'weights': 'uniform'}\n",
            "0.746110 (0.050469) with: {'metric': 'manhattan', 'n_neighbors': 13, 'weights': 'distance'}\n",
            "0.742196 (0.050717) with: {'metric': 'manhattan', 'n_neighbors': 15, 'weights': 'uniform'}\n",
            "0.743934 (0.052434) with: {'metric': 'manhattan', 'n_neighbors': 15, 'weights': 'distance'}\n",
            "0.740049 (0.052654) with: {'metric': 'manhattan', 'n_neighbors': 17, 'weights': 'uniform'}\n",
            "0.744372 (0.048608) with: {'metric': 'manhattan', 'n_neighbors': 17, 'weights': 'distance'}\n",
            "0.749140 (0.049737) with: {'metric': 'manhattan', 'n_neighbors': 19, 'weights': 'uniform'}\n",
            "0.746531 (0.048023) with: {'metric': 'manhattan', 'n_neighbors': 19, 'weights': 'distance'}\n"
          ]
        }
      ]
    },
    {
      "cell_type": "markdown",
      "source": [
        "## Case II: Random forest optimization\n",
        "\n",
        "### Define RF model, the grid (search space) and cross validation model"
      ],
      "metadata": {
        "id": "h4yrgdMr3FbQ"
      }
    },
    {
      "cell_type": "code",
      "source": [
        "model = RandomForestClassifier()\n",
        "\n",
        "# Hyperparameters\n",
        "n_estimators = [32, 64, 128, 256]\n",
        "max_features = ['sqrt', 'log2']\n",
        "criterion = ['gini', 'entropy', 'log_loss']\n",
        "\n",
        "# define search space\n",
        "grid = dict(n_estimators = n_estimators, \n",
        "            max_features = max_features,\n",
        "            criterion = criterion)\n",
        "\n",
        "# Stratified sampling ensures that proportion of labels is maintained in test set \n",
        "cv = RepeatedStratifiedKFold(n_splits = 10, n_repeats = 3, random_state = 1)"
      ],
      "metadata": {
        "id": "pRO-r9b73EoP"
      },
      "execution_count": 6,
      "outputs": []
    },
    {
      "cell_type": "markdown",
      "source": [
        "### Define Grid Search and Execute it"
      ],
      "metadata": {
        "id": "3lZka_L_5nyn"
      }
    },
    {
      "cell_type": "code",
      "source": [
        "grid_search = GridSearchCV(estimator = model, \n",
        "                           param_grid = grid, \n",
        "                           n_jobs = -1, \n",
        "                           cv = cv, \n",
        "                           scoring = 'accuracy',\n",
        "                           error_score = 0) # Assign score of 0 if error\n",
        "\n",
        "# This takes 2-3 minutes to finish\n",
        "grid_result = grid_search.fit(X, y)"
      ],
      "metadata": {
        "id": "fyNyxkbO1z8x"
      },
      "execution_count": 7,
      "outputs": []
    },
    {
      "cell_type": "markdown",
      "source": [
        "### Extract results"
      ],
      "metadata": {
        "id": "FyhBn_QH6Q_2"
      }
    },
    {
      "cell_type": "code",
      "source": [
        "print(f\"Best accuracy: {grid_result.best_score_:0.3f} using {grid_result.best_params_}\\n\")\n",
        "\n",
        "# Output the accuracy for all combintations in the grid\n",
        "means = grid_result.cv_results_['mean_test_score']\n",
        "stds = grid_result.cv_results_['std_test_score']\n",
        "params = grid_result.cv_results_['params']\n",
        "for mean, stdev, param in zip(means, stds, params):\n",
        "    print(\"%f (%f) with: %r\" % (mean, stdev, param))"
      ],
      "metadata": {
        "colab": {
          "base_uri": "https://localhost:8080/"
        },
        "id": "crVeIYDs6KPh",
        "outputId": "827d967a-85e7-44fa-8ed3-392676a6e261"
      },
      "execution_count": 8,
      "outputs": [
        {
          "output_type": "stream",
          "name": "stdout",
          "text": [
            "Best accuracy: 0.770 using {'criterion': 'entropy', 'max_features': 'log2', 'n_estimators': 64}\n",
            "\n",
            "0.755223 (0.042253) with: {'criterion': 'gini', 'max_features': 'sqrt', 'n_estimators': 32}\n",
            "0.759552 (0.044441) with: {'criterion': 'gini', 'max_features': 'sqrt', 'n_estimators': 64}\n",
            "0.766091 (0.048197) with: {'criterion': 'gini', 'max_features': 'sqrt', 'n_estimators': 128}\n",
            "0.758299 (0.046466) with: {'criterion': 'gini', 'max_features': 'sqrt', 'n_estimators': 256}\n",
            "0.752153 (0.051277) with: {'criterion': 'gini', 'max_features': 'log2', 'n_estimators': 32}\n",
            "0.762600 (0.046752) with: {'criterion': 'gini', 'max_features': 'log2', 'n_estimators': 64}\n",
            "0.755218 (0.042786) with: {'criterion': 'gini', 'max_features': 'log2', 'n_estimators': 128}\n",
            "0.764781 (0.045063) with: {'criterion': 'gini', 'max_features': 'log2', 'n_estimators': 256}\n",
            "0.750427 (0.046552) with: {'criterion': 'entropy', 'max_features': 'sqrt', 'n_estimators': 32}\n",
            "0.758271 (0.047532) with: {'criterion': 'entropy', 'max_features': 'sqrt', 'n_estimators': 64}\n",
            "0.759569 (0.044113) with: {'criterion': 'entropy', 'max_features': 'sqrt', 'n_estimators': 128}\n",
            "0.757382 (0.050276) with: {'criterion': 'entropy', 'max_features': 'sqrt', 'n_estimators': 256}\n",
            "0.757371 (0.045828) with: {'criterion': 'entropy', 'max_features': 'log2', 'n_estimators': 32}\n",
            "0.769948 (0.045372) with: {'criterion': 'entropy', 'max_features': 'log2', 'n_estimators': 64}\n",
            "0.756522 (0.042060) with: {'criterion': 'entropy', 'max_features': 'log2', 'n_estimators': 128}\n",
            "0.762150 (0.042311) with: {'criterion': 'entropy', 'max_features': 'log2', 'n_estimators': 256}\n",
            "0.759997 (0.046389) with: {'criterion': 'log_loss', 'max_features': 'sqrt', 'n_estimators': 32}\n",
            "0.756522 (0.044288) with: {'criterion': 'log_loss', 'max_features': 'sqrt', 'n_estimators': 64}\n",
            "0.758265 (0.044511) with: {'criterion': 'log_loss', 'max_features': 'sqrt', 'n_estimators': 128}\n",
            "0.761335 (0.052364) with: {'criterion': 'log_loss', 'max_features': 'sqrt', 'n_estimators': 256}\n",
            "0.746560 (0.044348) with: {'criterion': 'log_loss', 'max_features': 'log2', 'n_estimators': 32}\n",
            "0.756083 (0.048306) with: {'criterion': 'log_loss', 'max_features': 'log2', 'n_estimators': 64}\n",
            "0.759564 (0.043089) with: {'criterion': 'log_loss', 'max_features': 'log2', 'n_estimators': 128}\n",
            "0.759552 (0.050844) with: {'criterion': 'log_loss', 'max_features': 'log2', 'n_estimators': 256}\n"
          ]
        }
      ]
    },
    {
      "cell_type": "markdown",
      "source": [],
      "metadata": {
        "id": "XIoCSmhYfVhJ"
      }
    }
  ]
}