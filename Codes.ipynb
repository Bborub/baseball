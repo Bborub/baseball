{
  "nbformat": 4,
  "nbformat_minor": 0,
  "metadata": {
    "colab": {
      "provenance": [],
      "authorship_tag": "ABX9TyMya0nUNzXddY/8qyVA4nVU",
      "include_colab_link": true
    },
    "kernelspec": {
      "name": "python3",
      "display_name": "Python 3"
    },
    "language_info": {
      "name": "python"
    }
  },
  "cells": [
    {
      "cell_type": "markdown",
      "metadata": {
        "id": "view-in-github",
        "colab_type": "text"
      },
      "source": [
        "<a href=\"https://colab.research.google.com/github/Bborub/baseball/blob/main/Codes.ipynb\" target=\"_parent\"><img src=\"https://colab.research.google.com/assets/colab-badge.svg\" alt=\"Open In Colab\"/></a>"
      ]
    },
    {
      "cell_type": "code",
      "execution_count": null,
      "metadata": {
        "id": "3_yK9fyIF9JX"
      },
      "outputs": [],
      "source": [
        "# Drop rows with any NA values:\n",
        "\n",
        "df.dropna()\n",
        "\n",
        "df_cleaned = df.dropna()\n"
      ]
    },
    {
      "cell_type": "code",
      "source": [
        "# Drop rows where all values are NA:\n",
        "\n",
        "df.dropna(how='all')\n",
        "\n",
        "df_cleaned = df.dropna(how='all')\n",
        "\n"
      ],
      "metadata": {
        "id": "XEI77tUqGeGA"
      },
      "execution_count": null,
      "outputs": []
    },
    {
      "cell_type": "code",
      "source": [
        "# Drop columns with any NA values:\n",
        "\n",
        "df.dropna(axis=1)\n",
        "\n",
        "df_cleaned = df.dropna(axis=1)"
      ],
      "metadata": {
        "id": "_Md-Kj02Gt-w"
      },
      "execution_count": null,
      "outputs": []
    },
    {
      "cell_type": "code",
      "source": [
        "# Drop rows where NA appears in specific columns:\n",
        "\n",
        "df.dropna(subset=['col1', 'col2'])\n",
        "\n",
        "df_cleaned = df.dropna(subset=['col1', 'col2'])"
      ],
      "metadata": {
        "id": "xjoHuk3uHSc2"
      },
      "execution_count": null,
      "outputs": []
    },
    {
      "cell_type": "code",
      "source": [
        "Fill NA values with a specific value:\n",
        "\n",
        "df.fillna(0) # Fill NA values with 0\n",
        "\n",
        "df_cleaned = df.fillna(0) # Fill NA values with"
      ],
      "metadata": {
        "id": "fk__CWv5HvV9"
      },
      "execution_count": null,
      "outputs": []
    },
    {
      "cell_type": "code",
      "source": [
        "# Fill NA values with the mean of the column:\n",
        "\n",
        "df.fillna(df.mean())\n",
        "\n",
        "df_cleaned = df.fillna(df.mean())"
      ],
      "metadata": {
        "id": "AJDXyLtLIDcm"
      },
      "execution_count": null,
      "outputs": []
    },
    {
      "cell_type": "code",
      "source": [
        "# Forward fill (propagate last valid observation forward):\n",
        "\n",
        "df.fillna(method='ffill')\n",
        "\n",
        "df_cleaned = df.fillna(method='ffill')"
      ],
      "metadata": {
        "id": "qF-1HqSDIV4T"
      },
      "execution_count": null,
      "outputs": []
    },
    {
      "cell_type": "code",
      "source": [
        "# Backward fill (use next valid observation to fill gap):\n",
        "\n",
        "df.fillna(method='bfill')\n",
        "\n",
        "df_cleaned = df.fillna(method='bfill')"
      ],
      "metadata": {
        "id": "FR14iN7kIiKV"
      },
      "execution_count": null,
      "outputs": []
    },
    {
      "cell_type": "code",
      "source": [
        "# After applying any of these methods, you can check the result:\n",
        "\n",
        "df_cleaned.head()\n",
        "\n",
        "print(df_cleaned.info())  # or df_filled.info()\n",
        "\n"
      ],
      "metadata": {
        "id": "l_tUD6GMI7f_"
      },
      "execution_count": null,
      "outputs": []
    },
    {
      "cell_type": "code",
      "source": [
        "# Remembe that these operations create a new DataFrame. If you want to modify the original DataFrame, you can add the inplace=True parameter to most of these methods:\n",
        "\n",
        "df.fillna(method='ffill', inplace=True)\n",
        "\n",
        "df.dropna(inplace=True)"
      ],
      "metadata": {
        "id": "JwwSRhR7JgX6"
      },
      "execution_count": null,
      "outputs": []
    },
    {
      "cell_type": "code",
      "source": [
        "# If it is already a pandas DataFrame:\n",
        "# You don't need to convert it. You can check with:\n",
        "\n",
        "print(type(df))\n",
        "\n",
        "import pandas as pd\n",
        "\n",
        "if isinstance(file, pd.DataFrame):\n",
        "    print(\"file is already a pandas DataFrame\")\n",
        "else:\n",
        "    print(\"file is not a pandas DataFrame\")\n",
        "# # #\n",
        "print(type(df)) # or this method"
      ],
      "metadata": {
        "id": "DIQeb4YgLTkz"
      },
      "execution_count": null,
      "outputs": []
    },
    {
      "cell_type": "code",
      "source": [
        "import pandas as pd\n",
        "\n",
        "df = pd.read_csv('wtq.csv')\n",
        "\n"
      ],
      "metadata": {
        "id": "pg8AyG-eMaGY"
      },
      "execution_count": null,
      "outputs": []
    },
    {
      "cell_type": "code",
      "source": [
        "import pandas as pd\n",
        "\n",
        "df = pd.read_excel('wtq.xlsx')"
      ],
      "metadata": {
        "id": "tgpJm-UuMtE2"
      },
      "execution_count": null,
      "outputs": []
    },
    {
      "cell_type": "code",
      "source": [
        "# Here are several ways to examine the contents of a DataFrame in Python using pandas:\n",
        "\n",
        "# Display the first few rows of the DataFrame:\n",
        "\n",
        "df.head() # Default is 5 rows\n",
        "\n",
        "# You can specify the number of rows to display:\n",
        "\n",
        "df.head(10) # Display the first 10 rows\n",
        "\n",
        "# Display the last few rows of the DataFrame:\n",
        "\n",
        "df.tail() # Default is 5 rows\n",
        "\n",
        "# You can specify the number of rows to display:\n",
        "\n",
        "df.tail(10) # Display the last 10 rows\n",
        "\n",
        "# Get the dimensions (number of rows and columns) of the DataFrame:\n",
        "\n",
        "df.shape\n",
        "\n",
        "# Get the column names of the DataFrame:\n",
        "\n",
        "df.columns\n",
        "\n",
        "# Get the data types of the columns in the DataFrame:\n",
        "\n",
        "df.dtypes\n",
        "\n",
        "# Get the unique values in a specific column:\n",
        "\n",
        "df['column_name'].unique()\n",
        "\n",
        "# Get the number of unique values in a specific column:\n",
        "\n",
        "df['column_name'].nunique()\n",
        "\n",
        "# Get the count of each unique value in a specific column:\n",
        "\n",
        "df['column_name'].value_counts()\n",
        "\n",
        "# Get basic information about the DataFrame:\n",
        "\n",
        "df.info()\n",
        "\n",
        "# Display basic statistical details of numerical columns:\n",
        "\n",
        "df.describe()\n",
        "\n",
        "# also use below 'print' command in codes above:\n",
        "\n",
        "print(df.columns)\n",
        "print(df.index)\n",
        "\n",
        "\n",
        "\n"
      ],
      "metadata": {
        "id": "BEEChIQTOxsS"
      },
      "execution_count": null,
      "outputs": []
    },
    {
      "cell_type": "code",
      "source": [
        "# Use this in EDGAR TOOLS to Create Data Frame to run financial analysis, etc.:\n",
        "\n",
        "import pandas as pd\n",
        "weninc = pd.DataFrame(data)"
      ],
      "metadata": {
        "id": "D0yMe9PueOsx"
      },
      "execution_count": null,
      "outputs": []
    },
    {
      "cell_type": "code",
      "source": [
        "# There are many types of financial analytics you can perform in Colab to compare the financials of two companies. Here are some common analyses you can conduct using Python and libraries like pandas, numpy, and matplotlib:\n",
        "\n",
        "import pandas as pd\n",
        "import matplotlib.pyplot as plt\n",
        "\n",
        "# Assuming you have DataFrames 'company1_bs', 'company1_is', 'company2_bs', 'company2_is'\n",
        "\n",
        "# Calculate some ratios\n",
        "def calculate_ratios(bs, is):\n",
        "    return {\n",
        "        'Current Ratio': bs['Current Assets'] / bs['Current Liabilities'],\n",
        "        'ROA': is['Net Income'] / bs['Total Assets'],\n",
        "        'Profit Margin': is['Net Income'] / is['Revenue'],\n",
        "        'Debt to Equity': bs['Total Liabilities'] / bs['Total Equity']\n",
        "    }\n",
        "\n",
        "ratios1 = calculate_ratios(company1_bs, company1_is)\n",
        "ratios2 = calculate_ratios(company2_bs, company2_is)\n",
        "\n",
        "# Create a DataFrame for comparison\n",
        "comparison_df = pd.DataFrame({'Company 1': ratios1, 'Company 2': ratios2})\n",
        "\n",
        "# Visualize the comparison\n",
        "comparison_df.plot(kind='bar')\n",
        "plt.title('Financial Ratio Comparison')\n",
        "plt.xlabel('Ratios')\n",
        "plt.ylabel('Values')\n",
        "plt.show()\n",
        "\n",
        "# Trend analysis\n",
        "def calculate_growth_rate(df, column):\n",
        "    return (df[column].pct_change() * 100).mean()\n",
        "\n",
        "revenue_growth1 = calculate_growth_rate(company1_is, 'Revenue')\n",
        "revenue_growth2 = calculate_growth_rate(company2_is, 'Revenue')\n",
        "\n",
        "print(f\"Average Revenue Growth Rate:\")\n",
        "print(f\"Company 1: {revenue_growth1:.2f}%\")\n",
        "print(f\"Company 2: {revenue_growth2:.2f}%\")"
      ],
      "metadata": {
        "id": "xRZ7jqq7J38Y"
      },
      "execution_count": null,
      "outputs": []
    },
    {
      "cell_type": "code",
      "source": [
        "import pandas as pd\n",
        "\n",
        "def calculate_altman_z_score(df):\n",
        "    A = df['Working Capital'] / df['Total Assets']\n",
        "    B = df['Retained Earnings'] / df['Total Assets']\n",
        "    C = df['EBIT'] / df['Total Assets']\n",
        "    D = df['Market Value of Equity'] / df['Total Liabilities']\n",
        "    E = df['Sales'] / df['Total Assets']\n",
        "\n",
        "    Z = 1.2*A + 1.4*B + 3.3*C + 0.6*D + 1.0*E\n",
        "\n",
        "    return Z\n",
        "\n",
        "# Assuming 'df' is your DataFrame with the required financial data\n",
        "df['Altman Z-Score'] = calculate_altman_z_score(df)\n",
        "\n",
        "print(df['Altman Z-Score'])"
      ],
      "metadata": {
        "id": "7DSXfyCbKzjN"
      },
      "execution_count": null,
      "outputs": []
    },
    {
      "cell_type": "code",
      "source": [
        "# This is how to delete specific columns in a df:\n",
        "\n",
        "df = df.drop(['col1', 'col2'], axis=1) # Or this method:\n",
        "\n",
        "df = df.drop(['col1', 'col2'], axis=1, inplace=True)"
      ],
      "metadata": {
        "id": "pBncHAOuK7rD"
      },
      "execution_count": null,
      "outputs": []
    },
    {
      "cell_type": "code",
      "source": [
        "# Examine data in a column:\n",
        "\n",
        "df['col1'].value_counts()\n",
        "\n",
        "df['col1'].unique()\n",
        "\n",
        "df['col1'].nunique"
      ],
      "metadata": {
        "id": "TTK-6uxHeZ-D"
      },
      "execution_count": null,
      "outputs": []
    },
    {
      "cell_type": "code",
      "source": [
        "# Replace white spaces with underscore:\n",
        "\n",
        "df['col1'].replace(' ', '_'), regex=True, inplace=True)\n",
        "\n",
        "# Eliminate white spaces in column names:\n",
        "\n",
        "df.columns = df.columns.str.replace(' ', '')\n",
        "df.head()\n",
        "\n",
        "# Replace all white spaces in entire df with underscore:\n",
        "\n",
        "df.replace(' ', '_', regex=True, inplace=True)\n",
        "df.head"
      ],
      "metadata": {
        "id": "9Eau_rNtf-zq"
      },
      "execution_count": null,
      "outputs": []
    },
    {
      "cell_type": "code",
      "source": [
        "# One-Hot Encoding. These example may need further explanation:\n",
        "\n",
        "pd.get_dummies(df['col1'])\n",
        "\n",
        "pd.dummies(X,columns=['Payment_Method']).head()\n"
      ],
      "metadata": {
        "id": "jPYIJrTqmB_G"
      },
      "execution_count": null,
      "outputs": []
    }
  ]
}