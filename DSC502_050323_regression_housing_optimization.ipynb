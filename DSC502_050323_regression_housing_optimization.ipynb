{
  "nbformat": 4,
  "nbformat_minor": 0,
  "metadata": {
    "colab": {
      "provenance": [],
      "include_colab_link": true
    },
    "kernelspec": {
      "name": "python3",
      "display_name": "Python 3"
    },
    "language_info": {
      "name": "python"
    }
  },
  "cells": [
    {
      "cell_type": "markdown",
      "metadata": {
        "id": "view-in-github",
        "colab_type": "text"
      },
      "source": [
        "<a href=\"https://colab.research.google.com/github/Bborub/baseball/blob/main/DSC502_050323_regression_housing_optimization.ipynb\" target=\"_parent\"><img src=\"https://colab.research.google.com/assets/colab-badge.svg\" alt=\"Open In Colab\"/></a>"
      ]
    },
    {
      "cell_type": "markdown",
      "source": [
        "# Grid Search using Ridge Regression on the KC housing dataset"
      ],
      "metadata": {
        "id": "fc4SB8dkAscM"
      }
    },
    {
      "cell_type": "markdown",
      "metadata": {
        "id": "kCUpGhgh7B4K"
      },
      "source": [
        "## Imports\n"
      ]
    },
    {
      "cell_type": "code",
      "metadata": {
        "id": "oGV_D48swKv3"
      },
      "source": [
        "import pandas as pd\n",
        "from sklearn.linear_model import Ridge\n",
        "from sklearn.ensemble import RandomForestRegressor\n",
        "from sklearn.model_selection import RepeatedKFold\n",
        "from sklearn.model_selection import GridSearchCV"
      ],
      "execution_count": null,
      "outputs": []
    },
    {
      "cell_type": "markdown",
      "source": [
        "## Load dataset and define features and dependent variable (price)"
      ],
      "metadata": {
        "id": "dSClfsfJBSyD"
      }
    },
    {
      "cell_type": "code",
      "source": [
        "df = pd.read_csv('https://storage.googleapis.com/scsu-data-science/kc_house_data.csv')\n",
        "\n",
        "# Ridge regression requires no NaN's in dataset\n",
        "df.dropna(inplace=True)\n",
        "\n",
        "X = df.loc[:, ['bedrooms','bathrooms', 'floors', 'sqft_above', 'sqft_basement', 'sqft_lot']]\n",
        "y = df.loc[:, 'price']"
      ],
      "metadata": {
        "id": "h10Ydt6pBK6J"
      },
      "execution_count": null,
      "outputs": []
    },
    {
      "cell_type": "markdown",
      "metadata": {
        "id": "aFFRS6W25O19"
      },
      "source": [
        "## Construct the ridge regression model and define search space\n",
        "\n",
        "### Optimization score is $R^2$"
      ]
    },
    {
      "cell_type": "code",
      "metadata": {
        "id": "dTY-QfkjynVz"
      },
      "source": [
        "# define model\n",
        "model = Ridge()\n",
        "\n",
        "# define evaluation\n",
        "cv = RepeatedKFold(n_splits = 5, n_repeats = 3, random_state = 1)\n",
        "\n",
        "# define search space\n",
        "space = dict()\n",
        "space['solver'] = ['svd', 'cholesky', 'lsqr', 'sag']\n",
        "space['alpha'] = [1e-5, 1e-4, 1e-3, 1e-2, 1e-1, 1, 10, 100]\n",
        "space['fit_intercept'] = [True, False]\n",
        "\n",
        "# define search\n",
        "search = GridSearchCV(model, \n",
        "                      space, \n",
        "                      scoring = 'r2',\n",
        "                      n_jobs = -1, \n",
        "                      cv = cv)"
      ],
      "execution_count": null,
      "outputs": []
    },
    {
      "cell_type": "markdown",
      "source": [
        "## Execute search (this takes about 10 minutes)"
      ],
      "metadata": {
        "id": "QflgKTQpCylj"
      }
    },
    {
      "cell_type": "code",
      "source": [
        "result = search.fit(X, y)"
      ],
      "metadata": {
        "id": "Epy2ILbMCx1o"
      },
      "execution_count": null,
      "outputs": []
    },
    {
      "cell_type": "markdown",
      "source": [
        "### Best $R^2$ and parameter values"
      ],
      "metadata": {
        "id": "XTzMHGK0Ibby"
      }
    },
    {
      "cell_type": "code",
      "source": [
        "print(f'Best Score: {result.best_score_}')\n",
        "print(f'Best Hyperparameters: {result.best_params_}')"
      ],
      "metadata": {
        "colab": {
          "base_uri": "https://localhost:8080/"
        },
        "id": "I20M-wV_IY4s",
        "outputId": "3f5bcf1f-cde2-434c-8898-ad7b71455b7b"
      },
      "execution_count": null,
      "outputs": [
        {
          "output_type": "stream",
          "name": "stdout",
          "text": [
            "Best Score: 0.50706480664131\n",
            "Best Hyperparameters: {'alpha': 100, 'fit_intercept': True, 'solver': 'cholesky'}\n"
          ]
        }
      ]
    },
    {
      "cell_type": "markdown",
      "source": [
        "## Rerun using negative mean absolute error as score"
      ],
      "metadata": {
        "id": "VpNPfGTmICn6"
      }
    },
    {
      "cell_type": "code",
      "source": [
        "# define search\n",
        "search = GridSearchCV(model, \n",
        "                      space, \n",
        "                      scoring = 'neg_mean_absolute_error',\n",
        "                      n_jobs = -1, \n",
        "                      cv = cv)\n",
        "\n",
        "result = search.fit(X, y)\n",
        "\n",
        "print(f'Best Score: {result.best_score_}')\n",
        "print(f'Best Hyperparameters: {result.best_params_}')"
      ],
      "metadata": {
        "colab": {
          "base_uri": "https://localhost:8080/"
        },
        "id": "v-ZfY69XIBHV",
        "outputId": "575a1c10-fc5c-4f91-f07e-2e92262876a6"
      },
      "execution_count": null,
      "outputs": [
        {
          "output_type": "stream",
          "name": "stdout",
          "text": [
            "Best Score: -169580.66115881328\n",
            "Best Hyperparameters: {'alpha': 1e-05, 'fit_intercept': True, 'solver': 'cholesky'}\n"
          ]
        }
      ]
    },
    {
      "cell_type": "markdown",
      "source": [
        "### Optimizing Random Forest regressor model"
      ],
      "metadata": {
        "id": "1z5IZbc8SdJf"
      }
    },
    {
      "cell_type": "code",
      "source": [
        "# define model\n",
        "model = RandomForestRegressor()\n",
        "\n",
        "# define evaluation\n",
        "cv = RepeatedKFold(n_splits = 5, n_repeats = 3, random_state = 1)\n",
        "\n",
        "# define search space\n",
        "param_grid = dict()\n",
        "param_grid['max_depth'] = [9, 11, 13, 15]\n",
        "param_grid['min_samples_split'] = [8, 10, 12]\n",
        "\n",
        "# define search\n",
        "search = GridSearchCV(model, \n",
        "                      param_grid = param_grid, \n",
        "                      scoring = 'neg_mean_absolute_error',\n",
        "                      n_jobs = -1, \n",
        "                      cv = cv)\n",
        "\n",
        "result = search.fit(X, y)\n",
        "\n",
        "print(f'Best Score: {result.best_score_}')\n",
        "print(f'Best Hyperparameters: {result.best_params_}')"
      ],
      "metadata": {
        "colab": {
          "base_uri": "https://localhost:8080/"
        },
        "id": "RTekYfRTScD5",
        "outputId": "ba1cae8c-8fc8-4877-a0e4-c586c68ff7c3"
      },
      "execution_count": null,
      "outputs": [
        {
          "output_type": "stream",
          "name": "stdout",
          "text": [
            "Best Score: -150485.9697892562\n",
            "Best Hyperparameters: {'max_depth': 11, 'min_samples_split': 12}\n"
          ]
        }
      ]
    }
  ]
}